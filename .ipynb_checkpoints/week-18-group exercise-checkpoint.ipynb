{
 "cells": [
  {
   "cell_type": "markdown",
   "id": "98c7bdd7",
   "metadata": {},
   "source": [
    "Look up the Adam optimization functions in PyTorchhttps://pytorch.org/docs/stable/optim.html . How does it work? Try at least one otheroptimization function with the diabetes dataset shown in class. How does the modelperform with the new optimizer? Did it perform better or worse than Adam? Why do youthink that is?"
   ]
  },
  {
   "cell_type": "markdown",
   "id": "4fb1334d",
   "metadata": {},
   "source": [
    "import pandas as pd\n",
    "import torch\n",
    "import torchvision\n",
    "\n",
    "diabetes_df = pd.read_csv(\"diabetes.csv\")\n",
    "diabetes_df.head()"
   ]
  },
  {
   "cell_type": "code",
   "execution_count": 2,
   "id": "8d096ae6",
   "metadata": {},
   "outputs": [],
   "source": [
    "from sklearn.model_selection import train_test_split\n",
    "from sklearn.preprocessing import StandardScaler\n",
    "\n",
    "X = diabetes_df.drop('Outcome', axis=1).values\n",
    "y = diabetes_df['Outcome'].values\n",
    "\n",
    "# Split into training and test set\n",
    "X_train, X_test, y_train, y_test = train_test_split(X, y, test_size = 0.2, random_state=42, stratify=y)\n",
    "\n",
    "# #Standardize\n",
    "sc= StandardScaler()\n",
    "X_train=sc.fit_transform(X_train)\n",
    "X_test=sc.fit_transform(X_test)"
   ]
  },
  {
   "cell_type": "code",
   "execution_count": 3,
   "id": "0fd521d5",
   "metadata": {},
   "outputs": [
    {
     "name": "stdout",
     "output_type": "stream",
     "text": [
      "tensor([[-0.8514, -0.9801, -0.4048,  ..., -0.6077,  0.3108, -0.7922],\n",
      "        [ 0.3566,  0.1614,  0.4654,  ..., -0.3021, -0.1164,  0.5610],\n",
      "        [-0.5494, -0.5045, -0.6223,  ...,  0.3726, -0.7649, -0.7076],\n",
      "        ...,\n",
      "        [-0.8514, -0.7582,  0.0303,  ...,  0.7800, -0.7861, -0.2847],\n",
      "        [ 1.8665, -0.3142,  0.0303,  ..., -0.5695, -1.0194,  0.5610],\n",
      "        [ 0.0546,  0.7322, -0.6223,  ..., -0.3149, -0.5770,  0.3073]])\n"
     ]
    }
   ],
   "source": [
    "import torch.nn as nn\n",
    "import torch.nn.functional as F #this has activation functions\n",
    "\n",
    "# Creating tensors\n",
    "X_train = torch.FloatTensor(X_train)\n",
    "X_test = torch.FloatTensor(X_test)\n",
    "\n",
    "y_train = torch.LongTensor(y_train)\n",
    "y_test = torch.LongTensor(y_test)\n",
    "\n",
    "print(X_train)"
   ]
  },
  {
   "cell_type": "code",
   "execution_count": 4,
   "id": "83c4ade7",
   "metadata": {},
   "outputs": [],
   "source": [
    "class ANN_Model(nn.Module):\n",
    "    def __init__(self, input_features=8, hidden1=20, hidden2=20, out_features =2):\n",
    "        super().__init__()\n",
    "        self.layer_1_connection = nn.Linear(input_features, hidden1)\n",
    "        self.layer_2_connection = nn.Linear(hidden1, hidden2)\n",
    "        self.out = nn.Linear(hidden2, out_features)\n",
    "    \n",
    "    def forward(self, x):\n",
    "        #apply activation functions\n",
    "        x = F.relu(self.layer_1_connection(x))\n",
    "        x = F.relu(self.layer_2_connection(x))\n",
    "        x = self.out(x)\n",
    "        return x"
   ]
  },
  {
   "cell_type": "code",
   "execution_count": 25,
   "id": "d612c990",
   "metadata": {},
   "outputs": [],
   "source": [
    "torch.manual_seed(42)\n",
    "\n",
    "#instantiate the model\n",
    "model = ANN_Model()"
   ]
  },
  {
   "cell_type": "code",
   "execution_count": 19,
   "id": "f40cab2e",
   "metadata": {},
   "outputs": [],
   "source": [
    "# loss function\n",
    "loss_function = nn.CrossEntropyLoss()\n",
    "\n",
    "#optimizer\n",
    "optimizer = torch.optim.Adam(model.parameters(), lr = 0.01)"
   ]
  },
  {
   "cell_type": "code",
   "execution_count": 20,
   "id": "30f683b5",
   "metadata": {},
   "outputs": [],
   "source": [
    "loss_function = nn.CrossEntropyLoss()\n",
    "#optimizer\n",
    "#optimizer = torch.optim.Adam(model.parameters(), lr = 0.01)\n",
    "optimizer = torch.optim.SGD(model.parameters(), lr=0.1, momentum=0.9)\n"
   ]
  },
  {
   "cell_type": "code",
   "execution_count": 21,
   "id": "43101aef",
   "metadata": {},
   "outputs": [
    {
     "name": "stdout",
     "output_type": "stream",
     "text": [
      "Epoch number: 1 with loss: 0.05446562543511391\n",
      "Epoch number: 11 with loss: 0.750639796257019\n",
      "Epoch number: 21 with loss: 0.33812886476516724\n",
      "Epoch number: 31 with loss: 0.23228001594543457\n",
      "Epoch number: 41 with loss: 0.14217109978199005\n",
      "Epoch number: 51 with loss: 0.11267966777086258\n",
      "Epoch number: 61 with loss: 0.0903177559375763\n",
      "Epoch number: 71 with loss: 0.07744176685810089\n",
      "Epoch number: 81 with loss: 0.06869181990623474\n",
      "Epoch number: 91 with loss: 0.062079306691884995\n",
      "Epoch number: 101 with loss: 0.05640735849738121\n",
      "Epoch number: 111 with loss: 0.05165247991681099\n",
      "Epoch number: 121 with loss: 0.047455497086048126\n",
      "Epoch number: 131 with loss: 0.043646764010190964\n",
      "Epoch number: 141 with loss: 0.04045778140425682\n",
      "Epoch number: 151 with loss: 0.03768809512257576\n",
      "Epoch number: 161 with loss: 0.03527168929576874\n",
      "Epoch number: 171 with loss: 0.03291011601686478\n",
      "Epoch number: 181 with loss: 0.030771445482969284\n",
      "Epoch number: 191 with loss: 0.02886783704161644\n",
      "Epoch number: 201 with loss: 0.027140334248542786\n",
      "Epoch number: 211 with loss: 0.025570711120963097\n",
      "Epoch number: 221 with loss: 0.024086911231279373\n",
      "Epoch number: 231 with loss: 0.022763876244425774\n",
      "Epoch number: 241 with loss: 0.021595360711216927\n",
      "Epoch number: 251 with loss: 0.020492777228355408\n",
      "Epoch number: 261 with loss: 0.01952555775642395\n",
      "Epoch number: 271 with loss: 0.018617907539010048\n",
      "Epoch number: 281 with loss: 0.017771100625395775\n",
      "Epoch number: 291 with loss: 0.017006469890475273\n",
      "Epoch number: 301 with loss: 0.0162678025662899\n",
      "Epoch number: 311 with loss: 0.015570794232189655\n",
      "Epoch number: 321 with loss: 0.014936001040041447\n",
      "Epoch number: 331 with loss: 0.014343120157718658\n",
      "Epoch number: 341 with loss: 0.013801165856420994\n",
      "Epoch number: 351 with loss: 0.013283406384289265\n",
      "Epoch number: 361 with loss: 0.012808367609977722\n",
      "Epoch number: 371 with loss: 0.012331562116742134\n",
      "Epoch number: 381 with loss: 0.011876030825078487\n",
      "Epoch number: 391 with loss: 0.011447586119174957\n",
      "Epoch number: 401 with loss: 0.01105701457709074\n",
      "Epoch number: 411 with loss: 0.010692458599805832\n",
      "Epoch number: 421 with loss: 0.010342394933104515\n",
      "Epoch number: 431 with loss: 0.010021975263953209\n",
      "Epoch number: 441 with loss: 0.009698376059532166\n",
      "Epoch number: 451 with loss: 0.00939776748418808\n",
      "Epoch number: 461 with loss: 0.009109918028116226\n",
      "Epoch number: 471 with loss: 0.008842447772622108\n",
      "Epoch number: 481 with loss: 0.008584844879806042\n",
      "Epoch number: 491 with loss: 0.00833700131624937\n"
     ]
    }
   ],
   "source": [
    "#run model through multiple epochs/iterations\n",
    "final_loss = []\n",
    "n_epochs = 500\n",
    "for epoch in range(n_epochs):\n",
    "    y_pred = model.forward(X_train)\n",
    "    loss = loss_function(y_pred, y_train)\n",
    "    final_loss.append(loss)\n",
    "    \n",
    "    if epoch % 10 == 1:\n",
    "        print(f'Epoch number: {epoch} with loss: {loss.item()}')\n",
    "    \n",
    "    optimizer.zero_grad() #zero the gradient before running backwards propagation\n",
    "    loss.backward() #for backward propagation \n",
    "    optimizer.step() #performs one optimization step each epoch"
   ]
  },
  {
   "cell_type": "code",
   "execution_count": 26,
   "id": "51500a9b",
   "metadata": {},
   "outputs": [],
   "source": [
    "#predictions\n",
    "y_pred = []\n",
    "\n",
    "with torch.no_grad():\n",
    "    for i, data in enumerate(X_test):\n",
    "        prediction = model(data)\n",
    "        y_pred.append(prediction.argmax().item())"
   ]
  },
  {
   "cell_type": "code",
   "execution_count": 27,
   "id": "eb4d7681",
   "metadata": {},
   "outputs": [
    {
     "name": "stdout",
     "output_type": "stream",
     "text": [
      "0.6493506493506493\n"
     ]
    }
   ],
   "source": [
    "from sklearn.metrics import accuracy_score\n",
    "a_score = accuracy_score(y_test, y_pred)\n",
    "print(a_score)"
   ]
  },
  {
   "cell_type": "code",
   "execution_count": 28,
   "id": "f895aeac",
   "metadata": {},
   "outputs": [
    {
     "name": "stdout",
     "output_type": "stream",
     "text": [
      "              precision    recall  f1-score   support\n",
      "\n",
      "           0       0.65      1.00      0.79       100\n",
      "           1       0.00      0.00      0.00        54\n",
      "\n",
      "    accuracy                           0.65       154\n",
      "   macro avg       0.32      0.50      0.39       154\n",
      "weighted avg       0.42      0.65      0.51       154\n",
      "\n"
     ]
    },
    {
     "name": "stderr",
     "output_type": "stream",
     "text": [
      "c:\\users\\sunny\\appdata\\local\\programs\\python\\python38\\lib\\site-packages\\sklearn\\metrics\\_classification.py:1248: UndefinedMetricWarning: Precision and F-score are ill-defined and being set to 0.0 in labels with no predicted samples. Use `zero_division` parameter to control this behavior.\n",
      "  _warn_prf(average, modifier, msg_start, len(result))\n",
      "c:\\users\\sunny\\appdata\\local\\programs\\python\\python38\\lib\\site-packages\\sklearn\\metrics\\_classification.py:1248: UndefinedMetricWarning: Precision and F-score are ill-defined and being set to 0.0 in labels with no predicted samples. Use `zero_division` parameter to control this behavior.\n",
      "  _warn_prf(average, modifier, msg_start, len(result))\n",
      "c:\\users\\sunny\\appdata\\local\\programs\\python\\python38\\lib\\site-packages\\sklearn\\metrics\\_classification.py:1248: UndefinedMetricWarning: Precision and F-score are ill-defined and being set to 0.0 in labels with no predicted samples. Use `zero_division` parameter to control this behavior.\n",
      "  _warn_prf(average, modifier, msg_start, len(result))\n"
     ]
    }
   ],
   "source": [
    "from sklearn.metrics import classification_report\n",
    "\n",
    "print(classification_report(y_test, y_pred))"
   ]
  },
  {
   "cell_type": "markdown",
   "id": "c1e577d4",
   "metadata": {},
   "source": [
    "I changed my optimizer to SGD nd the performance for my model has decreased."
   ]
  },
  {
   "cell_type": "markdown",
   "id": "4dbbfd5d",
   "metadata": {},
   "source": [
    "## Write a function that lists and counts the number of divisors for an input value."
   ]
  },
  {
   "cell_type": "code",
   "execution_count": 29,
   "id": "2363f773",
   "metadata": {},
   "outputs": [
    {
     "name": "stdout",
     "output_type": "stream",
     "text": [
      "2\n",
      "8\n"
     ]
    }
   ],
   "source": [
    "def divisor(n):\n",
    "    for i in range(n):\n",
    "        x = len([i for i in range(1,n+1) if not n % i])\n",
    "        return x\n",
    "print(divisor(5))\n",
    "print(divisor(40))"
   ]
  },
  {
   "cell_type": "code",
   "execution_count": 77,
   "id": "10c089ce",
   "metadata": {},
   "outputs": [
    {
     "name": "stdout",
     "output_type": "stream",
     "text": [
      "The divisors of 5 are:\n",
      "1\n",
      "5\n",
      "Total count of divisors are :  2\n",
      "The divisors of 40 are:\n",
      "1\n",
      "2\n",
      "4\n",
      "5\n",
      "8\n",
      "10\n",
      "20\n",
      "40\n",
      "Total count of divisors are :  8\n"
     ]
    }
   ],
   "source": [
    "def print_factors(x):\n",
    "    count=0\n",
    "    print(\"The divisors of\",x,\"are:\")\n",
    "    for i in range(1, x + 1):\n",
    "        if x % i == 0:\n",
    "            print(i)\n",
    "            count = count +1\n",
    "    print(\"Total count of divisors are : \",count)        \n",
    "print_factors(5)\n",
    "print_factors(40)"
   ]
  },
  {
   "cell_type": "code",
   "execution_count": null,
   "id": "91388585",
   "metadata": {},
   "outputs": [],
   "source": []
  }
 ],
 "metadata": {
  "kernelspec": {
   "display_name": "Python 3",
   "language": "python",
   "name": "python3"
  },
  "language_info": {
   "codemirror_mode": {
    "name": "ipython",
    "version": 3
   },
   "file_extension": ".py",
   "mimetype": "text/x-python",
   "name": "python",
   "nbconvert_exporter": "python",
   "pygments_lexer": "ipython3",
   "version": "3.8.9"
  }
 },
 "nbformat": 4,
 "nbformat_minor": 5
}
